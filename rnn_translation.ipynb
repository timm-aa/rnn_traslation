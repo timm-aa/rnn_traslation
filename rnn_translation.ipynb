{
  "cells": [
    {
      "cell_type": "markdown",
      "id": "3a564d5f",
      "metadata": {
        "id": "3a564d5f"
      },
      "source": [
        "#  Машинный перевод с использованием рекуррентных нейронных сетей (RNN)"
      ]
    },
    {
      "cell_type": "code",
      "source": [
        "import json\n",
        "import pandas as pd\n",
        "from nltk.tokenize import RegexpTokenizer\n",
        "import random\n",
        "\n",
        "import torch\n",
        "import torch.nn as nn\n",
        "from torch.utils.data import Dataset, DataLoader\n",
        "from torchtext.vocab import build_vocab_from_iterator\n",
        "import torch.optim as optim\n",
        "import torchtext.transforms as T\n",
        "from torchtext.data.metrics import bleu_score"
      ],
      "metadata": {
        "id": "dtYD9UgouuXz"
      },
      "id": "dtYD9UgouuXz",
      "execution_count": 1,
      "outputs": []
    },
    {
      "cell_type": "markdown",
      "id": "20525395",
      "metadata": {
        "id": "20525395"
      },
      "source": [
        "## Считывание файлов"
      ]
    },
    {
      "cell_type": "code",
      "source": [
        "from google.colab import drive\n",
        "drive.mount('/content/drive')"
      ],
      "metadata": {
        "colab": {
          "base_uri": "https://localhost:8080/"
        },
        "id": "n2Qz5K3DuxI_",
        "outputId": "e0af58c4-6896-4610-e236-be1b470758e1"
      },
      "id": "n2Qz5K3DuxI_",
      "execution_count": null,
      "outputs": [
        {
          "output_type": "stream",
          "name": "stdout",
          "text": [
            "Mounted at /content/drive\n"
          ]
        }
      ]
    },
    {
      "cell_type": "code",
      "source": [
        "with open('/content/drive/MyDrive/data/RuBQ_2.0_train.json') as f:\n",
        "    f_train = json.load(f)\n",
        "with open('/content/drive/MyDrive/data/RuBQ_2.0_test.json') as f:\n",
        "    f_test = json.load(f)"
      ],
      "metadata": {
        "id": "yzTYiai2uq9h"
      },
      "id": "yzTYiai2uq9h",
      "execution_count": null,
      "outputs": []
    },
    {
      "cell_type": "code",
      "source": [
        "X_train, y_train = pd.DataFrame(f_train)['question_text'].tolist(), pd.DataFrame(f_train)['question_eng'].tolist()\n",
        "X_test, y_test = pd.DataFrame(f_test)['question_text'].tolist(), pd.DataFrame(f_test)['question_eng'].tolist()"
      ],
      "metadata": {
        "id": "CVFeRITDvWkl"
      },
      "id": "CVFeRITDvWkl",
      "execution_count": null,
      "outputs": []
    },
    {
      "cell_type": "code",
      "source": [
        "len(X_train), len(X_test)"
      ],
      "metadata": {
        "colab": {
          "base_uri": "https://localhost:8080/"
        },
        "id": "y9weonZZwXAY",
        "outputId": "b5cd971c-1a57-4ecb-a821-ddcb09859492"
      },
      "id": "y9weonZZwXAY",
      "execution_count": null,
      "outputs": [
        {
          "output_type": "execute_result",
          "data": {
            "text/plain": [
              "(2330, 580)"
            ]
          },
          "metadata": {},
          "execution_count": 5
        }
      ]
    },
    {
      "cell_type": "markdown",
      "id": "51d8edd3",
      "metadata": {
        "id": "51d8edd3"
      },
      "source": [
        "## Создание двух словарей на основе загруженных данных, добавление специальных токенов `<PAD>`, `<SOS>`, `<EOS>`"
      ]
    },
    {
      "cell_type": "markdown",
      "source": [
        "Для создания словарей используется токенизация с помощью регулярных выражений.\\\n",
        "Так как словари создаются на основе обучающего множества, будет добавлен специальный токен `<UNK>`, чтобы слова, которых нет в словарях, на тестовом множестве заменялись на него."
      ],
      "metadata": {
        "id": "arhdl-4P1FXj"
      },
      "id": "arhdl-4P1FXj"
    },
    {
      "cell_type": "code",
      "source": [
        "tokenizer = RegexpTokenizer(\"\\w+\")"
      ],
      "metadata": {
        "id": "zesQM0S54l9v"
      },
      "id": "zesQM0S54l9v",
      "execution_count": 2,
      "outputs": []
    },
    {
      "cell_type": "code",
      "source": [
        "ru_vocab = build_vocab_from_iterator(list(map(lambda x: tokenizer.tokenize(x.lower()), X_train)), specials=['<PAD>', '<UNK>', '<SOS>', '<EOS>'])\n",
        "ru_vocab.set_default_index(1) # <UNK>\n",
        "len(ru_vocab)"
      ],
      "metadata": {
        "colab": {
          "base_uri": "https://localhost:8080/"
        },
        "id": "IfJKRNnEwnPI",
        "outputId": "7eb0526b-c9ba-4202-d32f-41169eed2edc"
      },
      "id": "IfJKRNnEwnPI",
      "execution_count": null,
      "outputs": [
        {
          "output_type": "execute_result",
          "data": {
            "text/plain": [
              "5974"
            ]
          },
          "metadata": {},
          "execution_count": 7
        }
      ]
    },
    {
      "cell_type": "code",
      "source": [
        "en_vocab = build_vocab_from_iterator(list(map(lambda x: tokenizer.tokenize(x.lower()), y_train)), specials=['<PAD>', '<UNK>', '<SOS>', '<EOS>'])\n",
        "en_vocab.set_default_index(1) # <UNK>\n",
        "len(en_vocab)"
      ],
      "metadata": {
        "colab": {
          "base_uri": "https://localhost:8080/"
        },
        "id": "H-Sq4RKGxpuM",
        "outputId": "67069df9-2d1b-4738-cc58-53f965f2b4f1"
      },
      "id": "H-Sq4RKGxpuM",
      "execution_count": null,
      "outputs": [
        {
          "output_type": "execute_result",
          "data": {
            "text/plain": [
              "4264"
            ]
          },
          "metadata": {},
          "execution_count": 8
        }
      ]
    },
    {
      "cell_type": "markdown",
      "source": [
        "**Максимальное количество слов в предложениях на русском языке**"
      ],
      "metadata": {
        "id": "ZbDS40buxnpi"
      },
      "id": "ZbDS40buxnpi"
    },
    {
      "cell_type": "code",
      "source": [
        "pd.Series(list(map(lambda x: tokenizer.tokenize(x.lower()), X_train))).str.len().max()"
      ],
      "metadata": {
        "colab": {
          "base_uri": "https://localhost:8080/"
        },
        "id": "0Ld42JS4y7Tn",
        "outputId": "1069bcf3-c120-4e44-cba9-6f6612db384a"
      },
      "id": "0Ld42JS4y7Tn",
      "execution_count": null,
      "outputs": [
        {
          "output_type": "execute_result",
          "data": {
            "text/plain": [
              "25"
            ]
          },
          "metadata": {},
          "execution_count": 9
        }
      ]
    },
    {
      "cell_type": "markdown",
      "source": [
        "**Максимальное количество слов в предложениях на английском языке**"
      ],
      "metadata": {
        "id": "6GSrxSz9xtbf"
      },
      "id": "6GSrxSz9xtbf"
    },
    {
      "cell_type": "code",
      "source": [
        "pd.Series(list(map(lambda x: tokenizer.tokenize(x.lower()), y_train))).str.len().max()"
      ],
      "metadata": {
        "colab": {
          "base_uri": "https://localhost:8080/"
        },
        "id": "p2rPBr08zFvz",
        "outputId": "fca6beac-7176-444d-c509-f884b7073150"
      },
      "id": "p2rPBr08zFvz",
      "execution_count": null,
      "outputs": [
        {
          "output_type": "execute_result",
          "data": {
            "text/plain": [
              "31"
            ]
          },
          "metadata": {},
          "execution_count": 10
        }
      ]
    },
    {
      "cell_type": "markdown",
      "id": "a1d666a1",
      "metadata": {
        "id": "a1d666a1"
      },
      "source": [
        "## Создание датасетов"
      ]
    },
    {
      "cell_type": "markdown",
      "source": [
        "Реализуется `__getitem__` таким образом, чтобы он возвращал кортеж `(x, y)`, где x - это набор индексов токенов для предложений на русском языке, а `y` - набор индексов токенов для предложений на английском языке. Используя преобразования, сделаем длины наборов индексов одинаковой фиксированной длины, добавим в начало каждого набора индекс `<SOS>`, а в конец - индекс токена `<EOS>`."
      ],
      "metadata": {
        "id": "sEIUNOS_3ALX"
      },
      "id": "sEIUNOS_3ALX"
    },
    {
      "cell_type": "code",
      "execution_count": null,
      "metadata": {
        "id": "nMI0QHJI6KnO"
      },
      "outputs": [],
      "source": [
        "class RuEnDataset(Dataset):\n",
        "    def __init__(self, ru_words, en_words, transform1, transform2):\n",
        "        self.ru_words = ru_words\n",
        "        self.en_words = en_words\n",
        "        self.transform1 = transform1\n",
        "        self.transform2 = transform2\n",
        "    def __len__(self):\n",
        "        return len(self.ru_words)\n",
        "\n",
        "    def __getitem__(self, index):\n",
        "        X = self.ru_words[index]\n",
        "        Y = self.en_words[index]\n",
        "        X_tr = transform1(tokenizer.tokenize(X.lower()))\n",
        "        Y_tr = transform2(tokenizer.tokenize(Y.lower()))\n",
        "        return X_tr, Y_tr"
      ],
      "id": "nMI0QHJI6KnO"
    },
    {
      "cell_type": "code",
      "execution_count": null,
      "metadata": {
        "colab": {
          "base_uri": "https://localhost:8080/"
        },
        "id": "08fSCtQnETcw",
        "outputId": "1be65e52-7383-4327-cc53-612587884e9d"
      },
      "outputs": [
        {
          "output_type": "execute_result",
          "data": {
            "text/plain": [
              "(tensor([   2,   27,  705, 2327, 5744,    3,    0,    0,    0,    0]),\n",
              " tensor([   2,    6,  150,  243,   24, 4026,    3,    0,    0,    0]))"
            ]
          },
          "metadata": {},
          "execution_count": 12
        }
      ],
      "source": [
        "transform1 = T.Sequential(\n",
        "    T.VocabTransform(ru_vocab),\n",
        "    T.Truncate(max_seq_len=8),\n",
        "    T.AddToken(2, begin=True),\n",
        "    T.AddToken(3, begin=False),\n",
        "    T.ToTensor(),\n",
        "    T.PadTransform(max_length=10, pad_value=0)\n",
        ")\n",
        "transform2 = T.Sequential(\n",
        "    T.VocabTransform(en_vocab),\n",
        "    T.Truncate(max_seq_len=8),\n",
        "    T.AddToken(2, begin=True),\n",
        "    T.AddToken(3, begin=False),\n",
        "    T.ToTensor(),\n",
        "    T.PadTransform(max_length=10, pad_value=0)\n",
        ")\n",
        "dataset_train = RuEnDataset(X_train, y_train, transform1, transform2)\n",
        "dataset_train[0]"
      ],
      "id": "08fSCtQnETcw"
    },
    {
      "cell_type": "code",
      "source": [
        "dataset_test = RuEnDataset(X_test, y_test, transform1, transform2)\n",
        "dataset_test[0]"
      ],
      "metadata": {
        "colab": {
          "base_uri": "https://localhost:8080/"
        },
        "id": "hQkpzjAG0R0r",
        "outputId": "9c86b6a4-84d8-48d5-b8a8-a98dd7be5d46"
      },
      "id": "hQkpzjAG0R0r",
      "execution_count": null,
      "outputs": [
        {
          "output_type": "execute_result",
          "data": {
            "text/plain": [
              "(tensor([  2,   5,  19,  53, 142,  84,   1,   3,   0,   0]),\n",
              " tensor([ 2, 10, 19, 20,  4, 39,  1, 79, 49,  3]))"
            ]
          },
          "metadata": {},
          "execution_count": 14
        }
      ]
    },
    {
      "cell_type": "markdown",
      "id": "ca51f9bd",
      "metadata": {
        "id": "ca51f9bd"
      },
      "source": [
        "## Создание модели `Encoder`, которая возвращает скрытое состояние рекуррентного слоя в соотстветствии со следующей схемой.\n",
        "\n",
        "![encoder](https://i0.wp.com/www.adeveloperdiary.com/wp-content/uploads/2020/10/Machine-Translation-using-Recurrent-Neural-Network-and-PyTorch-adeveloperdiary.com-1.png?w=815&ssl=1)\n"
      ]
    },
    {
      "cell_type": "code",
      "source": [
        "class Encoder(nn.Module):\n",
        "  def __init__(self, vocab_size, embedding_dim, hidden_size):\n",
        "      super().__init__()\n",
        "      self.emb = nn.Embedding(\n",
        "          num_embeddings=vocab_size,\n",
        "          embedding_dim=embedding_dim,\n",
        "          padding_idx=0\n",
        "      )\n",
        "      self.dropout = nn.Dropout(p=0.5)\n",
        "      self.rnn = nn.GRU(embedding_dim, hidden_size, batch_first=True)\n",
        "\n",
        "  def forward(self, X):\n",
        "    out = self.emb(X) # batch x seq x emb_size\n",
        "    out = self.dropout(out)\n",
        "    _, h = self.rnn(out) # out: batch x seq x hidden_size\n",
        "    return h # 1 x batch x hidden_size"
      ],
      "metadata": {
        "id": "_QW2dGzLWrKW"
      },
      "execution_count": null,
      "outputs": [],
      "id": "_QW2dGzLWrKW"
    },
    {
      "cell_type": "code",
      "source": [
        "embedding_dim = 100\n",
        "encoder_hidden_size = 300\n",
        "encoder = Encoder(len(ru_vocab), embedding_dim, encoder_hidden_size)\n",
        "encoder_output = encoder(torch.stack(dataset_train[:16][0]))"
      ],
      "metadata": {
        "id": "Jx5_2S_6WrKb"
      },
      "execution_count": null,
      "outputs": [],
      "id": "Jx5_2S_6WrKb"
    },
    {
      "cell_type": "code",
      "source": [
        "encoder_output.shape"
      ],
      "metadata": {
        "colab": {
          "base_uri": "https://localhost:8080/"
        },
        "id": "OvCmsFK8X-UQ",
        "outputId": "cb9837fd-81a5-4dde-810a-3888671a9485"
      },
      "id": "OvCmsFK8X-UQ",
      "execution_count": null,
      "outputs": [
        {
          "output_type": "execute_result",
          "data": {
            "text/plain": [
              "torch.Size([1, 16, 300])"
            ]
          },
          "metadata": {},
          "execution_count": 17
        }
      ]
    },
    {
      "cell_type": "markdown",
      "id": "d94f101d",
      "metadata": {
        "id": "d94f101d"
      },
      "source": [
        "## Создание модели `Decoder`, которая возвращает прогноз (набор индексов слов на английском языке)\n",
        "\n",
        "![decoder](https://i2.wp.com/www.adeveloperdiary.com/wp-content/uploads/2020/10/Machine-Translation-using-Recurrent-Neural-Network-and-PyTorch-adeveloperdiary.com-2.png?w=899&ssl=1)"
      ]
    },
    {
      "cell_type": "code",
      "source": [
        "class Decoder(nn.Module):\n",
        "  def __init__(self, vocab_size, embedding_dim, decoder_hidden_size):\n",
        "    super().__init__()\n",
        "    self.emb = nn.Embedding(\n",
        "          num_embeddings=vocab_size,\n",
        "          embedding_dim=embedding_dim,\n",
        "          padding_idx=0\n",
        "    )\n",
        "    self.rnn = nn.GRUCell(embedding_dim, decoder_hidden_size)\n",
        "    self.fc = nn.Linear(decoder_hidden_size, vocab_size)\n",
        "\n",
        "  def forward(self, encoder_output, labels, teacher_forcing_ratio):\n",
        "    # labels: batch x seq_len\n",
        "    # encoder_output: 1 x batch x encoder_hidden_size\n",
        "    seq_len = labels.size(1)\n",
        "    input_tokens = labels[:, 0]\n",
        "    decoder_hidden = encoder_output[0]\n",
        "    predicts = []\n",
        "    for _ in range(1, seq_len):\n",
        "      out = self.emb(input_tokens).relu() # batch x emb_size\n",
        "      decoder_hidden = self.rnn(out, decoder_hidden) # batch x dec_hidden\n",
        "      out = self.fc(decoder_hidden) # batch x n_en_tokens\n",
        "      # teacher forcing\n",
        "      if random.random() < teacher_forcing_ratio:\n",
        "          input_tokens = labels[:, _]\n",
        "      else:\n",
        "          input_tokens = out.argmax(dim=1).detach()\n",
        "      predicts.append(out.unsqueeze(1))\n",
        "    predicts = torch.cat(predicts, dim=1)\n",
        "    return predicts # batch x seq x n_en_token"
      ],
      "metadata": {
        "id": "WQqYvFc5Wvss"
      },
      "id": "WQqYvFc5Wvss",
      "execution_count": null,
      "outputs": []
    },
    {
      "cell_type": "code",
      "source": [
        "decoder = Decoder(vocab_size=len(en_vocab), embedding_dim=100, decoder_hidden_size=300)\n",
        "decoder_output = decoder(encoder_output, torch.stack(dataset_train[:16][1]))\n",
        "decoder_output.shape"
      ],
      "metadata": {
        "colab": {
          "base_uri": "https://localhost:8080/"
        },
        "id": "4rU1mIpOqpNi",
        "outputId": "d629c148-46de-4f08-a881-4b4c0b51b323"
      },
      "id": "4rU1mIpOqpNi",
      "execution_count": null,
      "outputs": [
        {
          "output_type": "execute_result",
          "data": {
            "text/plain": [
              "torch.Size([16, 9, 4264])"
            ]
          },
          "metadata": {},
          "execution_count": 38
        }
      ]
    },
    {
      "cell_type": "markdown",
      "id": "da2f75c8",
      "metadata": {
        "id": "da2f75c8"
      },
      "source": [
        "## Объединение моделей `Encoder` и `Decoder` в одну модель `EncoderDecoder`\n"
      ]
    },
    {
      "cell_type": "code",
      "source": [
        "class EncoderDecoder(nn.Module):\n",
        "    def __init__(self, encoder, decoder):\n",
        "        super().__init__()\n",
        "        self.encoder = encoder\n",
        "        self.decoder = decoder\n",
        "\n",
        "    def forward(self, X, labels, teacher_forcing_ratio=0.5):\n",
        "        encoder_output = self.encoder(X)\n",
        "        decoder_output = self.decoder(encoder_output, labels, teacher_forcing_ratio)\n",
        "        return decoder_output"
      ],
      "metadata": {
        "id": "y1arxrwasbBb"
      },
      "id": "y1arxrwasbBb",
      "execution_count": null,
      "outputs": []
    },
    {
      "cell_type": "code",
      "source": [
        "encoder = Encoder(vocab_size=len(ru_vocab), embedding_dim=100, hidden_size=300)\n",
        "decoder = Decoder(vocab_size=len(en_vocab), embedding_dim=100, decoder_hidden_size=300)\n",
        "encoder_decoder = EncoderDecoder(encoder, decoder)"
      ],
      "metadata": {
        "id": "0WrciZAguldl"
      },
      "id": "0WrciZAguldl",
      "execution_count": null,
      "outputs": []
    },
    {
      "cell_type": "code",
      "source": [
        "result = encoder_decoder(torch.stack(dataset_train[:16][0]), torch.stack(dataset_train[:16][1]))\n",
        "result.shape"
      ],
      "metadata": {
        "colab": {
          "base_uri": "https://localhost:8080/"
        },
        "id": "H97w_HNXvIfu",
        "outputId": "23333ad2-51ec-4a0f-a5d0-21f017db1b1d"
      },
      "id": "H97w_HNXvIfu",
      "execution_count": null,
      "outputs": [
        {
          "output_type": "execute_result",
          "data": {
            "text/plain": [
              "torch.Size([16, 9, 4264])"
            ]
          },
          "metadata": {},
          "execution_count": 23
        }
      ]
    },
    {
      "cell_type": "code",
      "source": [
        "result_new = result.view(-1, result.size(-1))\n",
        "result_new.shape"
      ],
      "metadata": {
        "colab": {
          "base_uri": "https://localhost:8080/"
        },
        "id": "8GtNfQimvab0",
        "outputId": "404d9eb3-2941-47c9-bca2-72d785f8066b"
      },
      "id": "8GtNfQimvab0",
      "execution_count": null,
      "outputs": [
        {
          "output_type": "execute_result",
          "data": {
            "text/plain": [
              "torch.Size([144, 4264])"
            ]
          },
          "metadata": {},
          "execution_count": 24
        }
      ]
    },
    {
      "cell_type": "markdown",
      "id": "ec784777",
      "metadata": {
        "id": "ec784777"
      },
      "source": [
        "## Решение задачи классификации на основе прогнозов модели `EncoderDecoder`"
      ]
    },
    {
      "cell_type": "markdown",
      "source": [
        "Во время обучения выведем на экран значения функции потерь для эпохи (на обучающем множестве), значение accuracy по токенам (на обучающем множестве) и пример перевода, сгенерированного моделью."
      ],
      "metadata": {
        "id": "E5rCZkrM3oXC"
      },
      "id": "E5rCZkrM3oXC"
    },
    {
      "cell_type": "code",
      "source": [
        "train_loader = DataLoader(dataset_train, batch_size=16, shuffle=True)\n",
        "test_loader = DataLoader(dataset_test, batch_size=16, shuffle=True)"
      ],
      "metadata": {
        "id": "RS66ooPovuAZ"
      },
      "id": "RS66ooPovuAZ",
      "execution_count": null,
      "outputs": []
    },
    {
      "cell_type": "code",
      "source": [
        "encoder = Encoder(vocab_size=len(ru_vocab), embedding_dim=100, hidden_size=300)\n",
        "decoder = Decoder(vocab_size=len(en_vocab), embedding_dim=100, decoder_hidden_size=300)\n",
        "encoder_decoder = EncoderDecoder(encoder, decoder)\n",
        "\n",
        "criterion = nn.CrossEntropyLoss(ignore_index=0) # игнорирование индекса '<PAD>'\n",
        "optimizer = optim.Adam(encoder_decoder.parameters(), lr=0.001)\n",
        "epochs = 100"
      ],
      "metadata": {
        "id": "f_SuNcf702nQ"
      },
      "id": "f_SuNcf702nQ",
      "execution_count": null,
      "outputs": []
    },
    {
      "cell_type": "code",
      "source": [
        "%%time\n",
        "for epoch in range(epochs):\n",
        "    total_loss = 0\n",
        "    total_tokens = 0\n",
        "    correct_tokens = 0\n",
        "    encoder_decoder.train()\n",
        "    for input_tensor, labels in train_loader:\n",
        "        optimizer.zero_grad()\n",
        "        output = encoder_decoder(input_tensor, labels)\n",
        "        loss = criterion(output.view(-1, output.size(-1)), labels[:, 1:].flatten())\n",
        "        loss.backward()\n",
        "        optimizer.step()\n",
        "        optimizer.zero_grad()\n",
        "\n",
        "        total_loss += loss.item()\n",
        "\n",
        "        no_pad_tokens = (labels[:, 1:] != 0).sum().item()\n",
        "        total_tokens += no_pad_tokens\n",
        "        correct_tokens += ((output.argmax(dim=2) == labels[:, 1:]) * (labels[:, 1:] != 0)).sum().item()\n",
        "\n",
        "    accuracy = correct_tokens / total_tokens * 100 # расчет точности перевода\n",
        "    if ((epoch + 1) % 5) == 0:\n",
        "        print(f\"Epoch [{epoch + 1}/{epochs}] Loss: {(total_loss / len(train_loader)):.4f} Accuracy: {accuracy:.2f}%\")\n",
        "\n",
        "        encoder_decoder.eval()\n",
        "        with torch.no_grad(): # вывод примера\n",
        "            example_input = random.choice(dataset_train)[0]\n",
        "            example_output = encoder_decoder(example_input.unsqueeze(0), example_input.unsqueeze(0), teacher_forcing_ratio=0)\n",
        "            translation = example_output.argmax(dim=2).squeeze().tolist()\n",
        "            print(\"Оригинал:\", ' '.join(ru_vocab.lookup_tokens(example_input.tolist())))\n",
        "            print(\"Перевод:\", ' '.join(en_vocab.lookup_tokens(translation)))"
      ],
      "metadata": {
        "colab": {
          "base_uri": "https://localhost:8080/"
        },
        "id": "jSYAb_9G1EDQ",
        "outputId": "ed6d52ba-11d0-47f3-eda2-b2caa640e886"
      },
      "id": "jSYAb_9G1EDQ",
      "execution_count": null,
      "outputs": [
        {
          "output_type": "stream",
          "name": "stdout",
          "text": [
            "Epoch [5/100] Loss: 3.4162 Accuracy: 41.92%\n",
            "Оригинал: <SOS> какой город был переименован в 1968 г в <EOS>\n",
            "Перевод: which city is the the of the the <EOS>\n",
            "Epoch [10/100] Loss: 2.6606 Accuracy: 46.28%\n",
            "Оригинал: <SOS> на чем играет игорь растеряев <EOS> <PAD> <PAD> <PAD>\n",
            "Перевод: what does bashmet play play on <EOS> <EOS> <EOS>\n",
            "Epoch [15/100] Loss: 2.1622 Accuracy: 50.42%\n",
            "Оригинал: <SOS> сколько команд участвовало в чм по футболу 2018 <EOS>\n",
            "Перевод: how many points participated in the chicago the <EOS>\n",
            "Epoch [20/100] Loss: 1.7881 Accuracy: 54.62%\n",
            "Оригинал: <SOS> какой автомобильной компании принадлежит марка плимут <EOS> <PAD> <PAD>\n",
            "Перевод: what metal of the the plymouth <EOS> <EOS> <EOS>\n",
            "Epoch [25/100] Loss: 1.4782 Accuracy: 59.37%\n",
            "Оригинал: <SOS> в каком польском городе зародилось движение солидарность <EOS> <PAD>\n",
            "Перевод: in which city city was the schwarzenegger of <EOS>\n",
            "Epoch [30/100] Loss: 1.2265 Accuracy: 64.72%\n",
            "Оригинал: <SOS> чем наводили румяна девушки в древней руси <EOS> <PAD>\n",
            "Перевод: what did croquet girls in ancient russia trinidad <EOS>\n",
            "Epoch [35/100] Loss: 1.0240 Accuracy: 69.41%\n",
            "Оригинал: <SOS> как звали жену сына каллиопы орфея <EOS> <PAD> <PAD>\n",
            "Перевод: what was the name of the writer of <EOS>\n",
            "Epoch [40/100] Loss: 0.8238 Accuracy: 74.94%\n",
            "Оригинал: <SOS> что хрущев обещал советскому народу построить к 1980 <EOS>\n",
            "Перевод: what do khrushchev promise the soviet people to <EOS>\n",
            "Epoch [45/100] Loss: 0.6673 Accuracy: 79.52%\n",
            "Оригинал: <SOS> из какой династии был петр 1 <EOS> <PAD> <PAD>\n",
            "Перевод: what dynasty was peter 1 from <EOS> <EOS> <EOS>\n",
            "Epoch [50/100] Loss: 0.5615 Accuracy: 82.61%\n",
            "Оригинал: <SOS> где расположен opec опек <EOS> <PAD> <PAD> <PAD> <PAD>\n",
            "Перевод: where is opec located <EOS> <EOS> <EOS> <EOS> <EOS>\n",
            "Epoch [55/100] Loss: 0.4594 Accuracy: 85.66%\n",
            "Оригинал: <SOS> кто снял фильм послезавтра <EOS> <PAD> <PAD> <PAD> <PAD>\n",
            "Перевод: who made the film the day list <EOS> <EOS>\n",
            "Epoch [60/100] Loss: 0.4085 Accuracy: 87.48%\n",
            "Оригинал: <SOS> какая римская богиня соответствует греческой персефоне <EOS> <PAD> <PAD>\n",
            "Перевод: which roman goddess corresponds to the greek persephone <EOS>\n",
            "Epoch [65/100] Loss: 0.3303 Accuracy: 90.00%\n",
            "Оригинал: <SOS> когда образована еврейская автономная область <EOS> <PAD> <PAD> <PAD>\n",
            "Перевод: when was the jewish autonomous region formed <EOS> <EOS>\n",
            "Epoch [70/100] Loss: 0.2912 Accuracy: 91.31%\n",
            "Оригинал: <SOS> какая актриса снялась в главных ролях в фильмах <EOS>\n",
            "Перевод: which actress starred in the main roles in <EOS>\n",
            "Epoch [75/100] Loss: 0.2853 Accuracy: 91.61%\n",
            "Оригинал: <SOS> как долго продолжалась северная война <EOS> <PAD> <PAD> <PAD>\n",
            "Перевод: how long did the northern war last <EOS> <EOS>\n",
            "Epoch [80/100] Loss: 0.2446 Accuracy: 92.65%\n",
            "Оригинал: <SOS> какое число серий в клуб винкс <EOS> <PAD> <PAD>\n",
            "Перевод: what is the number of episodes in the <EOS>\n",
            "Epoch [85/100] Loss: 0.2230 Accuracy: 93.24%\n",
            "Оригинал: <SOS> какая высота эвереста <EOS> <PAD> <PAD> <PAD> <PAD> <PAD>\n",
            "Перевод: what is the height of mount everest <EOS> <EOS>\n",
            "Epoch [90/100] Loss: 0.2095 Accuracy: 93.89%\n",
            "Оригинал: <SOS> в каком городе родился советский писатель валентин пикуль <EOS>\n",
            "Перевод: in what city was the soviet writer valentin <EOS>\n",
            "Epoch [95/100] Loss: 0.1747 Accuracy: 94.86%\n",
            "Оригинал: <SOS> в каком году учрежден императорский казанский университет <EOS> <PAD>\n",
            "Перевод: in what year was the imperial kazan university <EOS>\n",
            "Epoch [100/100] Loss: 0.1754 Accuracy: 95.16%\n",
            "Оригинал: <SOS> какой из городов является столицей швейцарской конфедерации <EOS> <PAD>\n",
            "Перевод: which city is the capital of the swiss <EOS>\n",
            "CPU times: user 31min 26s, sys: 3.47 s, total: 31min 30s\n",
            "Wall time: 31min 44s\n"
          ]
        }
      ]
    },
    {
      "cell_type": "markdown",
      "source": [
        "**Для расчета качества машинного перевода воспользуемся метрикой BLEU**"
      ],
      "metadata": {
        "id": "2u629DSo0UM8"
      },
      "id": "2u629DSo0UM8"
    },
    {
      "cell_type": "code",
      "source": [
        "originals = []\n",
        "translations = []\n",
        "encoder_decoder.eval()\n",
        "with torch.no_grad():\n",
        "    for input_tensor, labels in test_loader:\n",
        "        output = encoder_decoder(input_tensor, input_tensor, teacher_forcing_ratio=0)\n",
        "        translation = output.argmax(dim=2).tolist()\n",
        "        labels_w, translation_w = [], []\n",
        "        translations.extend(list(map(lambda x: en_vocab.lookup_tokens(x), translation)))\n",
        "        originals.extend(list(map(lambda x: [en_vocab.lookup_tokens(x)], labels.tolist())))\n",
        "\n",
        "bleu = bleu_score(translations, originals)\n",
        "print(\"BLEU Score:\", bleu)"
      ],
      "metadata": {
        "colab": {
          "base_uri": "https://localhost:8080/"
        },
        "id": "yh6WBAuG5NgK",
        "outputId": "433f8c50-317a-4ba3-ebef-793df2cb743d"
      },
      "id": "yh6WBAuG5NgK",
      "execution_count": null,
      "outputs": [
        {
          "output_type": "stream",
          "name": "stdout",
          "text": [
            "BLEU Score: 0.20942311965760824\n"
          ]
        }
      ]
    }
  ],
  "metadata": {
    "kernelspec": {
      "display_name": "Python 3 (ipykernel)",
      "language": "python",
      "name": "python3"
    },
    "language_info": {
      "codemirror_mode": {
        "name": "ipython",
        "version": 3
      },
      "file_extension": ".py",
      "mimetype": "text/x-python",
      "name": "python",
      "nbconvert_exporter": "python",
      "pygments_lexer": "ipython3",
      "version": "3.9.13"
    },
    "colab": {
      "provenance": []
    }
  },
  "nbformat": 4,
  "nbformat_minor": 5
}